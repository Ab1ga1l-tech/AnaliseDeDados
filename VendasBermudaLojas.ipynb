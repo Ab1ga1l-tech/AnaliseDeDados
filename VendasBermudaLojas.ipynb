Vizualizando nosso arquivo de vendas
!pip install openpyxl
import pandas as pd
tabela = pd.read_excel("Vendas.xlsx", engine="openpyxl")
display(tabela)

#Calculando total faturado 
faturamento_total = tabela["Valor Final"].sum()
print(faturamento_total)

#Calculando total faturado por loja
faturamento_por_loja = tabela[["ID Loja","Valor Final"]].groupby("ID Loja").sum()
display(faturamento_por_loja)
#Verificamos que a loja Iguatemi Campinas obteve mais vendas vamos analisar o porquê disso ocorrer

#Calculando o faturamento da loja por produto
faturamento_por_produto = tabela[["ID Loja","Produto","Valor Final"]].groupby(["ID Loja","Produto"]).sum()
display(faturamento_por_produto)
#Chegamos a conclusão de que Bermuda Liso é responsável pela alta quantidade de vendas na loja Iguatemi Campinas e , portanto para aumentar as vendas deve-se vender esse produto nas outras lojas.
