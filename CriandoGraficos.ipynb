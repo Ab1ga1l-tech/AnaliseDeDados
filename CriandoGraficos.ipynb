!conda install -c plotly plotly -y
import plotly.express as px

'''dados_x = ['2018', '2019','2020','2021']
dados_y = [10,20,5,35]

fig = px.line(x=dados_x,y=dados_y, title = 'Vendas X Anos', width = 600, height = 300, line_shape= 'spline')
fig.update_yaxes(title = 'Vendas',title_font_color='blue')
fig.show()'''

dados_x = ['2018', '2019','2020','2021']
dados_y = [10,20,5,35]

fig = px.pie(names= dados_x, values=dados_y, height= 200, width= 300)
fig.update_traces(title_text='Pizza')
fig.show()

dados_x = ['2018', '2019','2020','2021']
dados_y = [10,20,5,35]
graf_coluna= px.bar(x=dados_x, y=dados_y, height=300, width=800)
graf_coluna.show()
